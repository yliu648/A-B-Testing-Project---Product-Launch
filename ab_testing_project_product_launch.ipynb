{
 "cells": [
  {
   "cell_type": "markdown",
   "metadata": {
    "id": "bd7eb592-72d7-40f3-9e05-5dfc02dff94e"
   },
   "source": [
    "# Business Problem (Product Launch)\n",
    "\n",
    "Situation: A product manager proposed a new feature called \"order bump\" (see image below) to encourage customers to add more items to their cart before completing check out. The feature aimed at improving revenue in product sales by encouraging additional purchases during the checkout process. \n",
    "\n",
    "Task: As the data scientist, I was looking to design an experiment with A/B testing and interpret the results to see if this was a good idea by separating two groups of customers where customers in the treatment group were exposured to the new feature and the control group were not."
   ]
  },
  {
   "cell_type": "markdown",
   "metadata": {
    "id": "018c03a0-6b00-4998-bf15-212754e349cd"
   },
   "source": [
    "<img src=\"https://orderbump.io/images/og-order-bump.jpg\" width=\"450\">"
   ]
  },
  {
   "cell_type": "markdown",
   "metadata": {},
   "source": [
    "\n",
    "\n",
    "This script mainly focused on how I interpreted the experiment results by analyzing the data and applying statistical techniques in order to make a recommendation on launching the new features.\n",
    "\n",
    "1. Exploratory Data Analysis and Sanity Check (outliers, random assignments, pre-test differences between variants)\n",
    "\n",
    "2. Developing Hypothesis Testing\n",
    "\n",
    "3. Making a Launch Decision"
   ]
  },
  {
   "cell_type": "markdown",
   "metadata": {
    "id": "ca8548a5-9a74-4b80-a3b2-2ff7195be9d2"
   },
   "source": [
    "## Results Interpretation"
   ]
  },
  {
   "cell_type": "markdown",
   "metadata": {
    "id": "29fe08e1-31f2-4164-9bc5-6a7f390dcddd"
   },
   "source": [
    "Starting with importing the libraries for analysis and importing the experiment data."
   ]
  },
  {
   "cell_type": "code",
   "execution_count": 1,
   "metadata": {
    "id": "21d0ab66-e8ea-4d83-b605-a770f3efef3c"
   },
   "outputs": [],
   "source": [
    "# handle data\n",
    "import pandas as pd\n",
    "import numpy as np\n",
    "\n",
    "# visualize data\n",
    "import seaborn as sns\n",
    "import matplotlib.pyplot as plt\n",
    "\n",
    "# run tests with statistical methods\n",
    "from scipy import stats\n",
    "import statsmodels.stats.api as sms\n",
    "\n",
    "# aesthetics\n",
    "sns.set(font_scale=2) # set font size of the charts \n",
    "pd.options.mode.chained_assignment = None # no warning message and no exception is raised"
   ]
  },
  {
   "cell_type": "code",
   "execution_count": 2,
   "metadata": {
    "id": "58395f4a-baa8-45cd-a591-bde1cde9a76c"
   },
   "outputs": [],
   "source": [
    "# load all the data\n",
    "df_pre = pd.read_csv(\"transactions_pre.csv\")\n",
    "df_post = pd.read_csv(\"transactions_post.csv\")\n",
    "df_meta = pd.read_csv(\"assignment.csv\")"
   ]
  },
  {
   "cell_type": "markdown",
   "metadata": {
    "id": "fa008c91-0b6f-4cae-a147-ee35154d202f"
   },
   "source": [
    "Additional information about the three data files:\n",
    "\n",
    "1. Transaction data before the experiment: `transactions_pre.csv`\n",
    "\n",
    " - `customer_id` (data type: integer): unique identifier of each customer\n",
    " - `transaction_date` (data type: datetime): the date on which the transaction happened\n",
    " - `amount_usd` (data type: float): the US dollar amount paid by the customer in the transaction\n",
    "     \n",
    "2. Transaction data after the experiment: `transactions_post.csv` (same structure as the pre-test data)\n",
    "     \n",
    "3. Metadata on experiment assignments: `assignment.csv`\n",
    " - `customer_id` (data type: integer): unique identifier of each customer\n",
    " - `variant` (data type: string): whether the customer was assigned to the experiment or the control variant\n"
   ]
  },
  {
   "cell_type": "code",
   "execution_count": 3,
   "metadata": {},
   "outputs": [
    {
     "data": {
      "text/html": [
       "<div>\n",
       "<style scoped>\n",
       "    .dataframe tbody tr th:only-of-type {\n",
       "        vertical-align: middle;\n",
       "    }\n",
       "\n",
       "    .dataframe tbody tr th {\n",
       "        vertical-align: top;\n",
       "    }\n",
       "\n",
       "    .dataframe thead th {\n",
       "        text-align: right;\n",
       "    }\n",
       "</style>\n",
       "<table border=\"1\" class=\"dataframe\">\n",
       "  <thead>\n",
       "    <tr style=\"text-align: right;\">\n",
       "      <th></th>\n",
       "      <th>customer_id</th>\n",
       "      <th>transaction_date</th>\n",
       "      <th>amount_usd</th>\n",
       "    </tr>\n",
       "  </thead>\n",
       "  <tbody>\n",
       "    <tr>\n",
       "      <th>0</th>\n",
       "      <td>3</td>\n",
       "      <td>2020-02-11</td>\n",
       "      <td>41.09</td>\n",
       "    </tr>\n",
       "    <tr>\n",
       "      <th>1</th>\n",
       "      <td>3</td>\n",
       "      <td>2020-02-14</td>\n",
       "      <td>16.64</td>\n",
       "    </tr>\n",
       "    <tr>\n",
       "      <th>2</th>\n",
       "      <td>3</td>\n",
       "      <td>2020-02-15</td>\n",
       "      <td>13.49</td>\n",
       "    </tr>\n",
       "    <tr>\n",
       "      <th>3</th>\n",
       "      <td>3</td>\n",
       "      <td>2020-02-21</td>\n",
       "      <td>1.04</td>\n",
       "    </tr>\n",
       "    <tr>\n",
       "      <th>4</th>\n",
       "      <td>3</td>\n",
       "      <td>2020-02-28</td>\n",
       "      <td>0.96</td>\n",
       "    </tr>\n",
       "  </tbody>\n",
       "</table>\n",
       "</div>"
      ],
      "text/plain": [
       "   customer_id transaction_date  amount_usd\n",
       "0            3       2020-02-11       41.09\n",
       "1            3       2020-02-14       16.64\n",
       "2            3       2020-02-15       13.49\n",
       "3            3       2020-02-21        1.04\n",
       "4            3       2020-02-28        0.96"
      ]
     },
     "execution_count": 3,
     "metadata": {},
     "output_type": "execute_result"
    }
   ],
   "source": [
    "df_pre.head()"
   ]
  },
  {
   "cell_type": "code",
   "execution_count": 4,
   "metadata": {},
   "outputs": [
    {
     "data": {
      "text/html": [
       "<div>\n",
       "<style scoped>\n",
       "    .dataframe tbody tr th:only-of-type {\n",
       "        vertical-align: middle;\n",
       "    }\n",
       "\n",
       "    .dataframe tbody tr th {\n",
       "        vertical-align: top;\n",
       "    }\n",
       "\n",
       "    .dataframe thead th {\n",
       "        text-align: right;\n",
       "    }\n",
       "</style>\n",
       "<table border=\"1\" class=\"dataframe\">\n",
       "  <thead>\n",
       "    <tr style=\"text-align: right;\">\n",
       "      <th></th>\n",
       "      <th>customer_id</th>\n",
       "      <th>transaction_date</th>\n",
       "      <th>amount_usd</th>\n",
       "    </tr>\n",
       "  </thead>\n",
       "  <tbody>\n",
       "    <tr>\n",
       "      <th>0</th>\n",
       "      <td>3</td>\n",
       "      <td>2020-09-01</td>\n",
       "      <td>7.25</td>\n",
       "    </tr>\n",
       "    <tr>\n",
       "      <th>1</th>\n",
       "      <td>3</td>\n",
       "      <td>2020-09-08</td>\n",
       "      <td>9.81</td>\n",
       "    </tr>\n",
       "    <tr>\n",
       "      <th>2</th>\n",
       "      <td>3</td>\n",
       "      <td>2020-09-16</td>\n",
       "      <td>2.07</td>\n",
       "    </tr>\n",
       "    <tr>\n",
       "      <th>3</th>\n",
       "      <td>3</td>\n",
       "      <td>2020-09-22</td>\n",
       "      <td>4.69</td>\n",
       "    </tr>\n",
       "    <tr>\n",
       "      <th>4</th>\n",
       "      <td>3</td>\n",
       "      <td>2020-09-27</td>\n",
       "      <td>2.08</td>\n",
       "    </tr>\n",
       "  </tbody>\n",
       "</table>\n",
       "</div>"
      ],
      "text/plain": [
       "   customer_id transaction_date  amount_usd\n",
       "0            3       2020-09-01        7.25\n",
       "1            3       2020-09-08        9.81\n",
       "2            3       2020-09-16        2.07\n",
       "3            3       2020-09-22        4.69\n",
       "4            3       2020-09-27        2.08"
      ]
     },
     "execution_count": 4,
     "metadata": {},
     "output_type": "execute_result"
    }
   ],
   "source": [
    "df_post.head()"
   ]
  },
  {
   "cell_type": "code",
   "execution_count": 5,
   "metadata": {},
   "outputs": [
    {
     "data": {
      "text/html": [
       "<div>\n",
       "<style scoped>\n",
       "    .dataframe tbody tr th:only-of-type {\n",
       "        vertical-align: middle;\n",
       "    }\n",
       "\n",
       "    .dataframe tbody tr th {\n",
       "        vertical-align: top;\n",
       "    }\n",
       "\n",
       "    .dataframe thead th {\n",
       "        text-align: right;\n",
       "    }\n",
       "</style>\n",
       "<table border=\"1\" class=\"dataframe\">\n",
       "  <thead>\n",
       "    <tr style=\"text-align: right;\">\n",
       "      <th></th>\n",
       "      <th>customer_id</th>\n",
       "      <th>variant</th>\n",
       "    </tr>\n",
       "  </thead>\n",
       "  <tbody>\n",
       "    <tr>\n",
       "      <th>0</th>\n",
       "      <td>3</td>\n",
       "      <td>control</td>\n",
       "    </tr>\n",
       "    <tr>\n",
       "      <th>1</th>\n",
       "      <td>4</td>\n",
       "      <td>control</td>\n",
       "    </tr>\n",
       "    <tr>\n",
       "      <th>2</th>\n",
       "      <td>6</td>\n",
       "      <td>control</td>\n",
       "    </tr>\n",
       "    <tr>\n",
       "      <th>3</th>\n",
       "      <td>14</td>\n",
       "      <td>control</td>\n",
       "    </tr>\n",
       "    <tr>\n",
       "      <th>4</th>\n",
       "      <td>18</td>\n",
       "      <td>control</td>\n",
       "    </tr>\n",
       "  </tbody>\n",
       "</table>\n",
       "</div>"
      ],
      "text/plain": [
       "   customer_id  variant\n",
       "0            3  control\n",
       "1            4  control\n",
       "2            6  control\n",
       "3           14  control\n",
       "4           18  control"
      ]
     },
     "execution_count": 5,
     "metadata": {},
     "output_type": "execute_result"
    }
   ],
   "source": [
    "df_meta.head()"
   ]
  },
  {
   "cell_type": "markdown",
   "metadata": {
    "id": "62f9f1ba-4193-45df-9ccf-74f75538a548"
   },
   "source": [
    "### Exploratory Data Analysis and Sanity Check \n",
    "To perform successful experiments, I needed to ensure that the data distributions passed sanity checking without violating the test assumptions by considering \n",
    " - outliers\n",
    " - random assignments\n",
    " - pre-test differences between variants"
   ]
  },
  {
   "cell_type": "markdown",
   "metadata": {
    "id": "89003a00-3d19-4027-b64c-2ff5aa39fff2"
   },
   "source": [
    "#### 1. Outliers\n",
    "Let's begin by checking for outliers and anomalies in the transaction data."
   ]
  },
  {
   "cell_type": "code",
   "execution_count": 6,
   "metadata": {
    "id": "68c5b786-5b2f-4ef9-92ab-8001e020ed7e",
    "outputId": "a37ebf55-b85d-43d0-9825-69e4f9fd775b"
   },
   "outputs": [
    {
     "data": {
      "text/plain": [
       "count    443748.000000\n",
       "mean         24.962695\n",
       "std         950.452061\n",
       "min           0.900000\n",
       "25%           1.990000\n",
       "50%           4.170000\n",
       "75%          12.800000\n",
       "max      109313.450000\n",
       "Name: amount_usd, dtype: float64"
      ]
     },
     "execution_count": 6,
     "metadata": {},
     "output_type": "execute_result"
    }
   ],
   "source": [
    "# pre-treatment summary statistics\n",
    "df_pre[\"amount_usd\"].describe()"
   ]
  },
  {
   "cell_type": "markdown",
   "metadata": {},
   "source": [
    "#### Histogram of Transaction Amount Before Experiment"
   ]
  },
  {
   "cell_type": "code",
   "execution_count": 7,
   "metadata": {
    "id": "12c85ffa-97fd-490a-819f-96e42ed64910",
    "outputId": "5cddfa2d-beb7-420e-929c-57270c521979"
   },
   "outputs": [
    {
     "data": {
      "image/png": "[encoded data removed]",
      "text/plain": [
       "<Figure size 576x432 with 1 Axes>"
      ]
     },
     "metadata": {},
     "output_type": "display_data"
    }
   ],
   "source": [
    "# plot the distribution\n",
    "plt.figure(figsize=(8, 6))\n",
    "sns.kdeplot(data=df_pre, x=\"amount_usd\")\n",
    "plt.show()"
   ]
  },
  {
   "cell_type": "code",
   "execution_count": 8,
   "metadata": {
    "id": "e316d35d-ab87-472d-8404-1b24bd991f18",
    "outputId": "c4423fe0-41f3-4c2b-c1ec-352b41cc790f"
   },
   "outputs": [
    {
     "data": {
      "text/plain": [
       "count    398013.000000\n",
       "mean         37.246828\n",
       "std        1271.811492\n",
       "min           0.900000\n",
       "25%           2.130000\n",
       "50%           5.550000\n",
       "75%          17.310000\n",
       "max      109954.310000\n",
       "Name: amount_usd, dtype: float64"
      ]
     },
     "execution_count": 8,
     "metadata": {},
     "output_type": "execute_result"
    }
   ],
   "source": [
    "# post-treatment summary statistics\n",
    "df_post[\"amount_usd\"].describe()"
   ]
  },
  {
   "cell_type": "markdown",
   "metadata": {},
   "source": [
    "#### Histogram of Transaction Amount After Experiment"
   ]
  },
  {
   "cell_type": "code",
   "execution_count": 9,
   "metadata": {
    "id": "4bc544ed-a464-4f9b-874d-b76059c3ec61",
    "outputId": "81b0034d-5f45-4aaf-8c44-ef0d62bac94b"
   },
   "outputs": [
    {
     "data": {
      "image/png": "[encoded data removed]",
      "text/plain": [
       "<Figure size 576x432 with 1 Axes>"
      ]
     },
     "metadata": {},
     "output_type": "display_data"
    }
   ],
   "source": [
    "# plot the distribution\n",
    "plt.figure(figsize=(8, 6))\n",
    "sns.kdeplot(data=df_post, x=\"amount_usd\")\n",
    "plt.show()"
   ]
  },
  {
   "cell_type": "markdown",
   "metadata": {
    "id": "8091b427-8454-4bd9-971f-d4532bd21ae5"
   },
   "source": [
    "The vertical axis (probability density function) of the histogram indicates the relative likelihood that the value of the transaction amount would be close to that sample. Both charts showed that a large number of customers were in the low range and only a few customers were in the high range (the long tail) who contributed a disproportionately large amount to the total revenue, which may violate the assumptions and mess up the hypothesis testing. \n",
    "\n",
    "Solutions for outliers: first log transform `amount_usd` and then remove transactions whose values are outside of the 99th percentile.\n",
    "\n",
    "There's something tricky though: percentiles are relative, so we may want to look at transaction data in both periods to establish a common standard for what counts as outliers."
   ]
  },
  {
   "cell_type": "code",
   "execution_count": 10,
   "metadata": {
    "id": "8e6b8e64-5b09-43ed-a1fe-3d870edad761"
   },
   "outputs": [],
   "source": [
    "# find the cutoff for what counts as outliers\n",
    "\n",
    "# merge the two transactions datasets before and after the experiement into a single table\n",
    "df_both = pd.concat([df_pre, df_post]) \n",
    "\n",
    "# log-transform transaction amount from all data in both periods\n",
    "df_both[\"log_amount_usd\"] = df_both[\"amount_usd\"].apply(lambda x: np.log(x))\n",
    "\n",
    "# find the cutoff for what counts as outliers in both periods\n",
    "cutoff = df_both[\"log_amount_usd\"].quantile(0.99)"
   ]
  },
  {
   "cell_type": "code",
   "execution_count": 11,
   "metadata": {
    "id": "2381291c-2a77-49d4-aa7f-8de2324c876c"
   },
   "outputs": [],
   "source": [
    "def remove_outliers(df, cutoff):\n",
    "    # log-transform transaction amount\n",
    "    df[\"log_amount_usd\"] = df[\"amount_usd\"].apply(lambda x: np.log(x))\n",
    "\n",
    "    # create a new dataframe without outliers\n",
    "    df_new = df[df[\"log_amount_usd\"] <= cutoff]\n",
    "\n",
    "    # return new dataframe\n",
    "    return df_new"
   ]
  },
  {
   "cell_type": "code",
   "execution_count": 12,
   "metadata": {
    "id": "65f044af-ca87-4921-9801-48f0ca920718"
   },
   "outputs": [],
   "source": [
    "# remove outliers in both pre- and post-test data\n",
    "df_pre_clean = remove_outliers(df_pre, cutoff)\n",
    "df_post_clean = remove_outliers(df_post, cutoff)"
   ]
  },
  {
   "cell_type": "markdown",
   "metadata": {
    "id": "ed99cd9e-3d7e-4e76-a0ff-67a30d595978"
   },
   "source": [
    "Now we can aggregate the data and calculate average revenue per user, which served as the primary metric to evaluate changes by the feature."
   ]
  },
  {
   "cell_type": "code",
   "execution_count": 13,
   "metadata": {
    "id": "ad33a11c-6616-4739-9324-d898b256dc18"
   },
   "outputs": [],
   "source": [
    "def aggregate_by_customer(df):\n",
    "\n",
    "    # get average transaction amount or revenue for each customer\n",
    "    revenue = df.groupby(\"customer_id\").mean().reset_index()\n",
    "\n",
    "    # only select columns we need: customer_id and average revenue\n",
    "    revenue = revenue[[\"customer_id\", \"amount_usd\"]]\n",
    "    revenue.rename(columns={\"amount_usd\": \"avg_revenue\"}, inplace=True)\n",
    "\n",
    "    # return new dataframe\n",
    "    return revenue"
   ]
  },
  {
   "cell_type": "code",
   "execution_count": 14,
   "metadata": {
    "id": "dcd90ab4-0fde-4f56-9c4e-82a42d04b194"
   },
   "outputs": [],
   "source": [
    "# aggregrate in each period\n",
    "agg_pre = aggregate_by_customer(df_pre_clean)\n",
    "agg_post = aggregate_by_customer(df_post_clean)"
   ]
  },
  {
   "cell_type": "markdown",
   "metadata": {
    "id": "f0c6f1f8-666f-474b-b657-fbf87f0d638b"
   },
   "source": [
    "#### 2. Random assignments\n",
    "\n",
    "If assignment is random, there should be the same number of units in each variant through out the experiment. To see if this is the case, we need to join the data first. I think LEFT JOIN is most appropriate: If someone bought something before the experiment began but didn't make any transactions afterwards, it could indicate a lost interest. If we use INNER JOIN, we lose such information."
   ]
  },
  {
   "cell_type": "code",
   "execution_count": 15,
   "metadata": {
    "id": "7c450c28-d06c-45af-b8fd-06f2d16d139f"
   },
   "outputs": [],
   "source": [
    "# LEFT JOIN data in each period\n",
    "df = agg_pre.merge(agg_post, on=\"customer_id\", how=\"left\", suffixes=[\"_pre\", \"_post\"])\n",
    "df.fillna(0, inplace=True)  # if no transaction happened, treat the amount as 0\n",
    "\n",
    "# find the variant of each customer by identifying which group the customer belonged to\n",
    "df = df.merge(df_meta, on=\"customer_id\")"
   ]
  },
  {
   "cell_type": "code",
   "execution_count": 16,
   "metadata": {
    "id": "05d446e0-720f-4306-9e80-d20d01e38493",
    "outputId": "ac91e17a-f2f1-401a-aacd-8766de2bc03f"
   },
   "outputs": [
    {
     "data": {
      "text/plain": [
       "variant\n",
       "control      9941\n",
       "treatment    9921\n",
       "dtype: int64"
      ]
     },
     "execution_count": 16,
     "metadata": {},
     "output_type": "execute_result"
    }
   ],
   "source": [
    "# how many units are in each variant?\n",
    "df.groupby(\"variant\").size()"
   ]
  },
  {
   "cell_type": "markdown",
   "metadata": {
    "id": "07a7110c-673f-4112-ab07-05c701d2eb0a"
   },
   "source": [
    "The number is really close. The assignment between control and treatment groups looks random!"
   ]
  },
  {
   "cell_type": "markdown",
   "metadata": {
    "id": "da743cc2-f149-455e-87cc-8c14487c6761"
   },
   "source": [
    "#### 3. Pre-test differences"
   ]
  },
  {
   "cell_type": "code",
   "execution_count": 17,
   "metadata": {
    "id": "5870977f-46c4-4886-af9c-f179a684c458"
   },
   "outputs": [],
   "source": [
    "# isolate pre-test data\n",
    "treatment_pre = df[df[\"variant\"] == \"treatment\"][\"avg_revenue_pre\"]\n",
    "control_pre = df[df[\"variant\"] == \"control\"][\"avg_revenue_pre\"]"
   ]
  },
  {
   "cell_type": "markdown",
   "metadata": {
    "id": "TeyJ5EiMYK7R"
   },
   "source": [
    "The t-test quantifies the difference between the arithmetic means of the two samples. The p-value quantifies the probability of observing as or more extreme values assuming the null hypothesis, that the samples are drawn from populations with the same population means, is true. A p-value larger than a chosen threshold (e.g. 5% or 1%) indicates that our observation is not so unlikely to have occurred by chance. Therefore, we do not reject the null hypothesis of equal population means. \n",
    "\n",
    "If the p-value is smaller than the threshold (e.g. 5% or 1%), then we have evidence against the null hypothesis of equal population means."
   ]
  },
  {
   "cell_type": "code",
   "execution_count": 18,
   "metadata": {
    "id": "d76f2b1b-6227-4e18-a205-b4c649f34fd8",
    "outputId": "06a37bf7-2317-4310-883e-748a066c2bf5"
   },
   "outputs": [
    {
     "data": {
      "text/plain": [
       "Ttest_indResult(statistic=-7.197679548774967, pvalue=6.342861266582803e-13)"
      ]
     },
     "execution_count": 18,
     "metadata": {},
     "output_type": "execute_result"
    }
   ],
   "source": [
    "# test for difference in treatment vs. control means\n",
    "stats.ttest_ind(treatment_pre, control_pre)"
   ]
  },
  {
   "cell_type": "markdown",
   "metadata": {
    "id": "fddc9aee-f49b-4f2f-b97e-ea1278c57a5a"
   },
   "source": [
    "Too bad, the average revenue per customer is already different in the pre-test period! This is a strong indicator that customers are not randomly assigned to each variant."
   ]
  },
  {
   "cell_type": "markdown",
   "metadata": {
    "id": "b1a13c63-04e0-45f3-958e-90aa296f84c9"
   },
   "source": [
    "When the variants were already different before the experiment, it does not work to compare the metric values in the post-test data. \n",
    "\n",
    "But one solution is to compute the post- vs. pre-test change in each customer's average revenue. If the treatment has an effect on customers' behavior, then the average change should be different in each variant."
   ]
  },
  {
   "cell_type": "code",
   "execution_count": 19,
   "metadata": {
    "id": "e98e3d48-e3fd-4de6-bf27-6d0dbb993cc6"
   },
   "outputs": [],
   "source": [
    "# compute change in average revenue per customer\n",
    "df[\"avg_rev_delta\"] = df[\"avg_revenue_post\"] - df[\"avg_revenue_pre\"]"
   ]
  },
  {
   "cell_type": "code",
   "execution_count": 20,
   "metadata": {
    "id": "737c6894-a749-4859-96e9-2b55ac814d94"
   },
   "outputs": [],
   "source": [
    "# isolate data for comparison\n",
    "treatment = df[df[\"variant\"] == \"treatment\"][\"avg_rev_delta\"]\n",
    "control = df[df[\"variant\"] == \"control\"][\"avg_rev_delta\"]"
   ]
  },
  {
   "cell_type": "markdown",
   "metadata": {
    "id": "a68ccf99-86c2-4f7b-954f-88030540d914"
   },
   "source": [
    "### Applying Hypothesis Testing"
   ]
  },
  {
   "cell_type": "markdown",
   "metadata": {
    "id": "2d4c37c4-b70f-433c-a52e-37935d741264"
   },
   "source": [
    "We can use a two-sample t-test to understand whether the feature had an impact on the change in average revenue per customer. Below are some basic assumptions behind t-test:\n",
    "\n",
    "- **Independence** between and within groups\n",
    "- **Normality** in each group\n",
    "- To pool variance, each group should have **equal variance**\n",
    "\n",
    "We have no evidence for or again whether the customers are dependent somehow (e.g., in the same household), which is common for online experiments, so don't fret too much about this. After testing for normality (detailed below), I found that the metric is normally distributed in both variant and since we have a large sample, it's likely that the sampling distribution is still normal (central limit theorem). As for the last assumption, pooling variance or not usually doesn't make a huge difference."
   ]
  },
  {
   "cell_type": "code",
   "execution_count": 22,
   "metadata": {
    "id": "19fd0f4d-0b84-49f9-bb8d-8d50e4a7af65",
    "outputId": "5e2a480d-3a1e-47ef-9229-6b62ae184d88"
   },
   "outputs": [
    {
     "data": {
      "image/png": "[encoded data removed]",
      "text/plain": [
       "<Figure size 720x432 with 1 Axes>"
      ]
     },
     "metadata": {},
     "output_type": "display_data"
    }
   ],
   "source": [
    "# plot the distributions to check for normality in each group\n",
    "plt.figure(figsize=(10, 6))\n",
    "sns.kdeplot(data=df, x=\"avg_rev_delta\", hue=\"variant\")\n",
    "plt.show()"
   ]
  },
  {
   "cell_type": "code",
   "execution_count": 23,
   "metadata": {
    "id": "644deb61-6920-4585-98fc-1f542a8d0caf",
    "outputId": "8a52196a-3776-40ec-d00e-bd0184bbd7d8"
   },
   "outputs": [
    {
     "data": {
      "text/plain": [
       "Ttest_indResult(statistic=31.208213551875527, pvalue=8.888175777344926e-209)"
      ]
     },
     "execution_count": 23,
     "metadata": {},
     "output_type": "execute_result"
    }
   ],
   "source": [
    "# test for difference in treatment vs. control changes\n",
    "stats.ttest_ind(treatment, control)"
   ]
  },
  {
   "cell_type": "markdown",
   "metadata": {
    "id": "55a197b9-5671-490f-a39d-3ac8dea9328b"
   },
   "source": [
    "For treatment, the average revenue per customer increased much more than it did for control."
   ]
  },
  {
   "cell_type": "code",
   "execution_count": 24,
   "metadata": {
    "id": "f53e3544-dcc4-4ba1-8cc8-13efb9895c19",
    "outputId": "bf47a2c1-5f32-437b-b03e-9ebcfc6ac916"
   },
   "outputs": [
    {
     "data": {
      "text/plain": [
       "(3.200232388660616, 3.6292705515721653)"
      ]
     },
     "execution_count": 24,
     "metadata": {},
     "output_type": "execute_result"
    }
   ],
   "source": [
    "# let's get 95% CI\n",
    "sms.CompareMeans(sms.DescrStatsW(treatment), sms.DescrStatsW(control)).tconfint_diff(\n",
    "    usevar=\"unequal\"\n",
    ")"
   ]
  },
  {
   "cell_type": "markdown",
   "metadata": {
    "id": "948b9757-77e0-437b-b959-7d67d3041ec3"
   },
   "source": [
    "This is confirmed by 95% CI: The lower bound is greater than 0."
   ]
  },
  {
   "cell_type": "markdown",
   "metadata": {
    "id": "bfb85ad5-e399-4eaa-8dda-287a4f15e459"
   },
   "source": [
    "## Make a Launch Decision"
   ]
  },
  {
   "cell_type": "markdown",
   "metadata": {
    "id": "cc7e010e-5b1c-492b-8734-3f053a8e1966"
   },
   "source": [
    "I advocated for the launch of the feature because:\n",
    "1. Compared to control, the treatment improved significantly more in terms of average revenue per customer\n",
    "2. Average revenue per customer is absolutely key to the survival of my company and we urgently need need to improve it\n",
    "\n",
    "\n",
    "Limitation:\n",
    "In this case, something seems wrong with randomization such that the average revenue per customer was different between variants. so I asked the engineers to check the implementations. Otherwise, after we launch order bump, the same error may haunt other customers."
   ]
  },
  {
   "cell_type": "markdown",
   "metadata": {},
   "source": [
    "## Summary of Packages and Functions Used\n",
    "\n",
    "1. Data Manipulation using Pandas and Numpy\n",
    " - describe() function to get the summary statistics including mean and standard deveation\n",
    " - concat() function to merge two datasets into a single dataset\n",
    " - apply (lambda) function to apply a function along an axis of the DataFrame\n",
    " - groupby() function to split the data into groups and apply certain aggregation\n",
    " - rename() function to change the column name\n",
    " - merge() function to join data from two tables\n",
    " - fillna() function to fill in missing values\n",
    " - size() function to count the number of rows\n",
    " - quantile() function to compute quantiles for a weighted sample\n",
    " \n",
    " \n",
    "2. Data Visualization using Seaborn and Matplotlib\n",
    " - kdeplot() function to plot histogram\n",
    " - figure() function to edit the chart setting such as the size of the graph\n",
    " \n",
    " \n",
    "3. Statistical Analysis using Statsmodels\n",
    " - ttest_ind() to perform an independent t-test to evaluate the statistical significance of the difference in the means \n",
    " - normaltest() to conduct normality test to check for violation of assumptions for t-test\n",
    " - tconfint_diff() to return confidence interval for the difference in means\n",
    " - CompareMeans() to compare the means of two sample"
   ]
  },
  {
   "cell_type": "code",
   "execution_count": null,
   "metadata": {},
   "outputs": [],
   "source": []
  }
 ],
 "metadata": {
  "colab": {
   "collapsed_sections": [],
   "name": "ab_testing_project_product_launch.ipynb",
   "provenance": []
  },
  "kernelspec": {
   "display_name": "Python 3",
   "language": "python",
   "name": "python3"
  },
  "language_info": {
   "codemirror_mode": {
    "name": "ipython",
    "version": 3
   },
   "file_extension": ".py",
   "mimetype": "text/x-python",
   "name": "python",
   "nbconvert_exporter": "python",
   "pygments_lexer": "ipython3",
   "version": "3.7.5"
  }
 },
 "nbformat": 4,
 "nbformat_minor": 5
}
