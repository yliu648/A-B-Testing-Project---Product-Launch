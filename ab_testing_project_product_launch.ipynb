{
  "cells": [
    {
      "cell_type": "markdown",
      "id": "bd7eb592-72d7-40f3-9e05-5dfc02dff94e",
      "metadata": {
        "id": "bd7eb592-72d7-40f3-9e05-5dfc02dff94e"
      },
      "source": [
        "<img src=\"https://raw.githubusercontent.com/datainterviewpro/brand/main/PCIP%20logo.png\" width=\"200\">\n",
        "\n",
        "# A/B Testing Project Solution "
      ]
    },
    {
      "cell_type": "markdown",
      "id": "018c03a0-6b00-4998-bf15-212754e349cd",
      "metadata": {
        "id": "018c03a0-6b00-4998-bf15-212754e349cd"
      },
      "source": [
        "## 1. Experiment: Order Bump\n",
        "\n",
        "You're a data scientist working at an e-commerce startup. The revenue in product sales from last quarter doesn't look so good, so your team is brainstorming ideas to encourage more purchases. One proposal is using so-called [\"order bump\"](https://accessally.com/blog/order-bump-examples/) to get customers to add more items to their cart before they check out. As the only data scientist on the team, your colleagues naturally turn to you and ask: *\"Do you think this might be a good idea? Would you help the team find out?\"*\n",
        "\n",
        "<img src=\"https://orderbump.io/images/og-order-bump.jpg\" width=\"450\">"
      ]
    },
    {
      "cell_type": "markdown",
      "id": "c1ae3cb8-3cbc-4748-ae06-24f1d8bc9cd8",
      "metadata": {
        "id": "c1ae3cb8-3cbc-4748-ae06-24f1d8bc9cd8"
      },
      "source": [
        "### Q1. Use your intuitions and list reasons why you think order bump may or may not be a good idea. (Think both for your company and in your customers' shoes.)"
      ]
    },
    {
      "cell_type": "markdown",
      "id": "2a6490b8-a506-4f4d-a185-fa2353ad1cae",
      "metadata": {
        "id": "2a6490b8-a506-4f4d-a185-fa2353ad1cae"
      },
      "source": [
        "- **Why it may be a good idea**: If used cleverly and organically, order bump is a great way to increase revenue per customer. You can find several success stories [here](https://accessally.com/blog/order-bump-examples/). For instance, if you recommend items or services (e.g., Apple Care) customers actually need or offer good deals that are genuinely attractive, they may appreciate the suggestions.\n",
        "- **When it may hurt**: However, if an order bump has no intrinsic appeal or is presented in an intrusive way (e.g., a pop-up window), customers may be turned off. Not only will they not accept the bump, they may even give up buying what they originally wanted to buy. If bad experience happens again, they may churn and stop being your customers."
      ]
    },
    {
      "cell_type": "markdown",
      "id": "5ff4b254-7c6f-4394-87f0-e8e498c0a0e6",
      "metadata": {
        "id": "5ff4b254-7c6f-4394-87f0-e8e498c0a0e6"
      },
      "source": [
        "Now, the data scientist in you says the gold standard for deciding whether this is a good idea is to **run an A/B test**. In the new treatment variant, customers are nudged to add more items to their cart by the order bump whereas in the control variant, it's business as usual: Customers check out whatever they add to the cart without being prompted to add more."
      ]
    },
    {
      "cell_type": "markdown",
      "id": "3242f184-810c-402f-a871-d1ddbbe4ec85",
      "metadata": {
        "id": "3242f184-810c-402f-a871-d1ddbbe4ec85"
      },
      "source": [
        "### Q2: What metrics would you track in this experiment? List at least 3. If you can only pick one success metric for this experiment, which one would it be and why?"
      ]
    },
    {
      "cell_type": "markdown",
      "id": "839cc8a2-14e0-4f94-936f-a47678fae313",
      "metadata": {
        "id": "839cc8a2-14e0-4f94-936f-a47678fae313"
      },
      "source": [
        "To see if order bump is a success, I'd consider the following behaviors, along with metrics (<u>underlined</u>) that can be use to track them:\n",
        "1. **Do customers accept the order bump?** We can look at the <u>acceptance rate</u> (# of order bumps clicked / # order bumps shown) of order bumps. If the order bump is shown as a pop-up window or otherwise has to be \"dealt with\", we can also track the <u>dismiss rate</u> (# of orders bumps closed / # order bumps shown). While these metrics tell us a lot about whether a feature is appealing or annoying, they only exist in treatment but control (where there is no order bump). As such, we can't use them as experiment metrics.\n",
        "2. **Do order bumps bring in more money for us?** After all, this is why we decide to run this experiment, to increase the revenue for our e-commerce. We can track the <u>total revenue</u> in each variant as well as the <u>average revenue per customer</u> to see if the order bump bumps them up. Since we may not have the same number of units in each variant, the total revenue metric may not be the best to use. Moreover, total metrics often have higher variances than per-customer metrics, leading to a lack of power.  \n",
        "3. **Or are does it backfire?** It's possible that customers dislike order bumps so much that they don't even proceed to check out and don't even return in the future. To see if our nightmares come true, we can track the <u>cart abandonment rate</u> (# of customers who don't check out / # of customers who add items to cart) in each variant as well as <u>retention</u> and <u>churn</u> (which are a bit tricky to define for [e-commerce](https://towardsdatascience.com/modeling-customer-churn-for-an-e-commerce-business-with-python-874315e688bf)). However, since we may not see customers churn so quickly and it's too late to take actions if they do, retention and churn are not good experiment metrics.\n",
        "\n",
        "Taking it all together, I'll use **average revenue per customer** as the success metric, which has many nice properties (see [this post](https://www.yuan-meng.com/posts/metrics/) for more characteristics of good metrics):\n",
        "1. **Goal-oriented**: It tracks the goal of the product and our company, i.e., stimulating purchase behaviors\n",
        "2. **Measurable**: It can be more easily measured within the experiment duration, than, say churn and retention\n",
        "3. **Low variance**: Average revenue per customer is quite variant, but the variance is lower than total revenues"
      ]
    },
    {
      "cell_type": "markdown",
      "id": "1c301a31-ff76-4b08-83e9-07d4b7feee01",
      "metadata": {
        "id": "1c301a31-ff76-4b08-83e9-07d4b7feee01"
      },
      "source": [
        "Your manager says, great, the engineers will help you implement an A/B test! The data came back after a while. Now it's you turn!"
      ]
    },
    {
      "cell_type": "markdown",
      "id": "fa008c91-0b6f-4cae-a147-ee35154d202f",
      "metadata": {
        "id": "fa008c91-0b6f-4cae-a147-ee35154d202f"
      },
      "source": [
        "## 2. Experiment Data\n",
        "\n",
        "The experiment data is stored in 3 separate CSV files as follws:\n",
        "\n",
        "1. Transaction data before the experiment: `transactions_pre.csv`\n",
        "\n",
        "- `customer_id` (data type: integer): unique identifier of each customer\n",
        "- `transaction_date` (data type: datetime): the date on which the transaction happened\n",
        "- `amount_usd` (data type: float): the US dollar amount paid by the customer in the transaction\n",
        "     \n",
        "2. Transaction data after the experiment: `transactions_post.csv` (same structure as the pre-test data)\n",
        "     \n",
        "3. Metadata on experiment assignments: `assignment.csv`\n",
        "- `customer_id` (data type: integer): unique identifier of each customer\n",
        "- `variant` (data type: string): whether the customer was assigned to the experiment or the control variant\n",
        "\n",
        "<div class=\"alert alert-block alert-info\"> <b>NOTE</b> The data has been pre-processed but you shouldn't assume it's 100% clean. You may still need to deal with missing values and outliers. </div> \n",
        "\n",
        "<div class=\"alert alert-block alert-warning\"> <b>CAUTION</b> If you use parametric methods such as two-sample t-tests to analyze the data, you need to think about the test assumptions and your data distributions. Read <a href=\"https://gnarlyware.com/blog/fooled-by-average-customer-revenue/\">this article</a> if you're curious about how some key metrics in e-commerce are distributed. </div>\n",
        "\n"
      ]
    },
    {
      "cell_type": "markdown",
      "id": "ca8548a5-9a74-4b80-a3b2-2ff7195be9d2",
      "metadata": {
        "id": "ca8548a5-9a74-4b80-a3b2-2ff7195be9d2"
      },
      "source": [
        "## 3. Experiment Analysis"
      ]
    },
    {
      "cell_type": "markdown",
      "id": "76f7ff0d-7986-4e7d-afcd-06b9d6f9ea50",
      "metadata": {
        "id": "76f7ff0d-7986-4e7d-afcd-06b9d6f9ea50"
      },
      "source": [
        "### Q3: What is your hypothesis regarding the outcome? Please state both the null hypothesis ($H_0$) and the alternative hypothesis ($H_1$). For your alternative hypothesis, should it be one-tailed or two-tailed? Why?"
      ]
    },
    {
      "cell_type": "markdown",
      "id": "925f54e3-b1c7-43a9-896a-31b8e3f6c71c",
      "metadata": {
        "id": "925f54e3-b1c7-43a9-896a-31b8e3f6c71c"
      },
      "source": [
        "Let $\\mu_t$ be the average revenue per customer in the treatment variant and $\\mu_c$ the same metric in the control variant.\n",
        "- **Null hypothesis ($H_0$)**: $\\mu_t = \\mu_c$\n",
        "- **Alternative hypothesis ($H_1$)**: $\\mu_t \\neq \\mu_c$\n",
        "\n",
        "Note that I used a **two-tailed** alternative hypothesis because order bump may either hurt or help; there's no reason to lean one way or the other."
      ]
    },
    {
      "cell_type": "markdown",
      "id": "29fe08e1-31f2-4164-9bc5-6a7f390dcddd",
      "metadata": {
        "id": "29fe08e1-31f2-4164-9bc5-6a7f390dcddd"
      },
      "source": [
        "---\n",
        "Time to take a close look at the data and understand the impact of order bump!\n",
        "\n",
        "Below are some libraries you may find help. Feel free to use other libraries or languages you normally use to analyze data."
      ]
    },
    {
      "cell_type": "code",
      "execution_count": null,
      "id": "21d0ab66-e8ea-4d83-b605-a770f3efef3c",
      "metadata": {
        "id": "21d0ab66-e8ea-4d83-b605-a770f3efef3c"
      },
      "outputs": [],
      "source": [
        "# handle data\n",
        "import pandas as pd\n",
        "import numpy as np\n",
        "\n",
        "# visualize data\n",
        "import seaborn as sns\n",
        "import matplotlib.pyplot as plt\n",
        "\n",
        "# run tests\n",
        "from scipy import stats\n",
        "import statsmodels.stats.api as sms\n",
        "\n",
        "# aesthetics\n",
        "sns.set(font_scale=2)\n",
        "pd.options.mode.chained_assignment = None"
      ]
    },
    {
      "cell_type": "code",
      "execution_count": null,
      "id": "58395f4a-baa8-45cd-a591-bde1cde9a76c",
      "metadata": {
        "id": "58395f4a-baa8-45cd-a591-bde1cde9a76c"
      },
      "outputs": [],
      "source": [
        "# load all the data\n",
        "df_pre = pd.read_csv(\"transactions_pre.csv\")\n",
        "df_post = pd.read_csv(\"transactions_post.csv\")\n",
        "df_meta = pd.read_csv(\"assignment.csv\")"
      ]
    },
    {
      "cell_type": "markdown",
      "id": "62f9f1ba-4193-45df-9ccf-74f75538a548",
      "metadata": {
        "id": "62f9f1ba-4193-45df-9ccf-74f75538a548"
      },
      "source": [
        "### Q4: Does the data pass sanity checking? Please consider outliers, random assignments, pre-test differences between variants, and other factors you deem important."
      ]
    },
    {
      "cell_type": "markdown",
      "id": "89003a00-3d19-4027-b64c-2ff5aa39fff2",
      "metadata": {
        "id": "89003a00-3d19-4027-b64c-2ff5aa39fff2"
      },
      "source": [
        "#### 1. Outliers\n",
        "Let's begin by checking for outliers and anomalies in the transaction data."
      ]
    },
    {
      "cell_type": "code",
      "execution_count": null,
      "id": "68c5b786-5b2f-4ef9-92ab-8001e020ed7e",
      "metadata": {
        "id": "68c5b786-5b2f-4ef9-92ab-8001e020ed7e",
        "outputId": "a37ebf55-b85d-43d0-9825-69e4f9fd775b"
      },
      "outputs": [
        {
          "data": {
            "text/plain": [
              "count    443748.000000\n",
              "mean         24.962695\n",
              "std         950.452061\n",
              "min           0.900000\n",
              "25%           1.990000\n",
              "50%           4.170000\n",
              "75%          12.800000\n",
              "max      109313.450000\n",
              "Name: amount_usd, dtype: float64"
            ]
          },
          "execution_count": 3,
          "metadata": {},
          "output_type": "execute_result"
        }
      ],
      "source": [
        "# pre-treatment summary statistics\n",
        "df_pre[\"amount_usd\"].describe()"
      ]
    },
    {
      "cell_type": "code",
      "execution_count": null,
      "id": "12c85ffa-97fd-490a-819f-96e42ed64910",
      "metadata": {
        "id": "12c85ffa-97fd-490a-819f-96e42ed64910",
        "outputId": "5cddfa2d-beb7-420e-929c-57270c521979"
      },
      "outputs": [
        {
          "data": {
            "image/png": "[encoded data removed]",
            "text/plain": [
              "<Figure size 576x432 with 1 Axes>"
            ]
          },
          "metadata": {},
          "output_type": "display_data"
        }
      ],
      "source": [
        "# plot the distribution\n",
        "plt.figure(figsize=(8, 6))\n",
        "sns.kdeplot(data=df_pre, x=\"amount_usd\")\n",
        "plt.show()"
      ]
    },
    {
      "cell_type": "code",
      "execution_count": null,
      "id": "e316d35d-ab87-472d-8404-1b24bd991f18",
      "metadata": {
        "id": "e316d35d-ab87-472d-8404-1b24bd991f18",
        "outputId": "c4423fe0-41f3-4c2b-c1ec-352b41cc790f"
      },
      "outputs": [
        {
          "data": {
            "text/plain": [
              "count    398013.000000\n",
              "mean         37.246828\n",
              "std        1271.811492\n",
              "min           0.900000\n",
              "25%           2.130000\n",
              "50%           5.550000\n",
              "75%          17.310000\n",
              "max      109954.310000\n",
              "Name: amount_usd, dtype: float64"
            ]
          },
          "execution_count": 5,
          "metadata": {},
          "output_type": "execute_result"
        }
      ],
      "source": [
        "# pre-treatment summary statistics\n",
        "df_post[\"amount_usd\"].describe()"
      ]
    },
    {
      "cell_type": "code",
      "execution_count": null,
      "id": "4bc544ed-a464-4f9b-874d-b76059c3ec61",
      "metadata": {
        "id": "4bc544ed-a464-4f9b-874d-b76059c3ec61",
        "outputId": "81b0034d-5f45-4aaf-8c44-ef0d62bac94b"
      },
      "outputs": [
        {
          "data": {
            "image/png": "[encoded data removed]",
            "text/plain": [
              "<Figure size 576x432 with 1 Axes>"
            ]
          },
          "metadata": {},
          "output_type": "display_data"
        }
      ],
      "source": [
        "# plot the distribution\n",
        "plt.figure(figsize=(8, 6))\n",
        "sns.kdeplot(data=df_post, x=\"amount_usd\")\n",
        "plt.show()"
      ]
    },
    {
      "cell_type": "markdown",
      "id": "8091b427-8454-4bd9-971f-d4532bd21ae5",
      "metadata": {
        "id": "8091b427-8454-4bd9-971f-d4532bd21ae5"
      },
      "source": [
        "These ~400k transactions are unlikely real. Outliers or, worse, potential measurement errors, may mess up the hypothesis testing. In machine learning, there are many fancy techniques for detecting outliers, such as the [Isolation Forest](https://en.wikipedia.org/wiki/Isolation_forest), the [Random Cut Forest](https://docs.aws.amazon.com/sagemaker/latest/dg/randomcutforest.html) etc.. In this exercise, I'll go with a more traditional method: Since average revenue per customer is not normally distributed, I'll first log transform `amount_usd` and then remove transactions whose values are outside of the 99th percentile.\n",
        "\n",
        "There's something tricky, though: Percentiles are relative, so we may want to look at transaction data in both periods to establish a common standard for what counts as outliers."
      ]
    },
    {
      "cell_type": "code",
      "execution_count": null,
      "id": "8e6b8e64-5b09-43ed-a1fe-3d870edad761",
      "metadata": {
        "id": "8e6b8e64-5b09-43ed-a1fe-3d870edad761"
      },
      "outputs": [],
      "source": [
        "# find the cutoff for what counts as outliers\n",
        "df_both = pd.concat([df_pre, df_post])\n",
        "df_both[\"log_amount_usd\"] = df_both[\"amount_usd\"].apply(lambda x: np.log(x))\n",
        "cutoff = df_both[\"log_amount_usd\"].quantile(0.99)"
      ]
    },
    {
      "cell_type": "code",
      "execution_count": null,
      "id": "2381291c-2a77-49d4-aa7f-8de2324c876c",
      "metadata": {
        "id": "2381291c-2a77-49d4-aa7f-8de2324c876c"
      },
      "outputs": [],
      "source": [
        "def remove_outliers(df, cutoff):\n",
        "    # log-transform transaction amount\n",
        "    df[\"log_amount_usd\"] = df[\"amount_usd\"].apply(lambda x: np.log(x))\n",
        "\n",
        "    # create a new dataframe without outliers\n",
        "    df_new = df[df[\"log_amount_usd\"] <= cutoff]\n",
        "\n",
        "    # return new dataframe\n",
        "    return df_new"
      ]
    },
    {
      "cell_type": "code",
      "execution_count": null,
      "id": "65f044af-ca87-4921-9801-48f0ca920718",
      "metadata": {
        "id": "65f044af-ca87-4921-9801-48f0ca920718"
      },
      "outputs": [],
      "source": [
        "# remove outliers in both pre- and post-test data\n",
        "df_pre_clean = remove_outliers(df_pre, cutoff)\n",
        "df_post_clean = remove_outliers(df_post, cutoff)"
      ]
    },
    {
      "cell_type": "markdown",
      "id": "ed99cd9e-3d7e-4e76-a0ff-67a30d595978",
      "metadata": {
        "id": "ed99cd9e-3d7e-4e76-a0ff-67a30d595978"
      },
      "source": [
        "Now we can aggregate the data and calculate average revenue per user."
      ]
    },
    {
      "cell_type": "code",
      "execution_count": null,
      "id": "ad33a11c-6616-4739-9324-d898b256dc18",
      "metadata": {
        "id": "ad33a11c-6616-4739-9324-d898b256dc18"
      },
      "outputs": [],
      "source": [
        "def aggregate_by_customer(df):\n",
        "\n",
        "    # get mean values for each customer\n",
        "    revenue = df.groupby(\"customer_id\").mean().reset_index()\n",
        "\n",
        "    # only select columns we need\n",
        "    revenue = revenue[[\"customer_id\", \"amount_usd\"]]\n",
        "    revenue.rename(columns={\"amount_usd\": \"avg_revenue\"}, inplace=True)\n",
        "\n",
        "    # return new dataframe\n",
        "    return revenue"
      ]
    },
    {
      "cell_type": "code",
      "execution_count": null,
      "id": "dcd90ab4-0fde-4f56-9c4e-82a42d04b194",
      "metadata": {
        "id": "dcd90ab4-0fde-4f56-9c4e-82a42d04b194"
      },
      "outputs": [],
      "source": [
        "# aggregrate in each period\n",
        "agg_pre = aggregate_by_customer(df_pre_clean)\n",
        "agg_post = aggregate_by_customer(df_post_clean)"
      ]
    },
    {
      "cell_type": "markdown",
      "id": "f0c6f1f8-666f-474b-b657-fbf87f0d638b",
      "metadata": {
        "id": "f0c6f1f8-666f-474b-b657-fbf87f0d638b"
      },
      "source": [
        "#### 2. Random assignments\n",
        "\n",
        "If assignment is random, there should be the same number of units in each variant through out the experiment. To see if this is the case, we need to join the data first. **What type of JOIN, though?** I think LEFT JOIN is most appropriate: If someone bought something before the experiment began but didn't make any transactions afterwards, it could indicate a lost interest. If we use INNER JOIN, we lose such information."
      ]
    },
    {
      "cell_type": "code",
      "execution_count": null,
      "id": "7c450c28-d06c-45af-b8fd-06f2d16d139f",
      "metadata": {
        "id": "7c450c28-d06c-45af-b8fd-06f2d16d139f"
      },
      "outputs": [],
      "source": [
        "# LEFT JOIN data in each period\n",
        "df = agg_pre.merge(agg_post, on=\"customer_id\", how=\"left\", suffixes=[\"_pre\", \"_post\"])\n",
        "df.fillna(0, inplace=True)  # if no transaction happened, treat the amount as 0\n",
        "# find the variant of each customer\n",
        "df = df.merge(df_meta, on=\"customer_id\")"
      ]
    },
    {
      "cell_type": "code",
      "execution_count": null,
      "id": "05d446e0-720f-4306-9e80-d20d01e38493",
      "metadata": {
        "id": "05d446e0-720f-4306-9e80-d20d01e38493",
        "outputId": "ac91e17a-f2f1-401a-aacd-8766de2bc03f"
      },
      "outputs": [
        {
          "data": {
            "text/plain": [
              "variant\n",
              "control      9941\n",
              "treatment    9921\n",
              "dtype: int64"
            ]
          },
          "execution_count": 13,
          "metadata": {},
          "output_type": "execute_result"
        }
      ],
      "source": [
        "# how many units are in each variant?\n",
        "df.groupby(\"variant\").size()"
      ]
    },
    {
      "cell_type": "markdown",
      "id": "07a7110c-673f-4112-ab07-05c701d2eb0a",
      "metadata": {
        "id": "07a7110c-673f-4112-ab07-05c701d2eb0a"
      },
      "source": [
        "The number is really close. If you're really paranoid about sample ratio mismatch (SRM), we can check."
      ]
    },
    {
      "cell_type": "code",
      "execution_count": null,
      "id": "1f3c61e8-ac41-42ff-b48b-3d8e82d4dcd4",
      "metadata": {
        "id": "1f3c61e8-ac41-42ff-b48b-3d8e82d4dcd4"
      },
      "outputs": [],
      "source": [
        "def check_srm(df, alpha):\n",
        "\n",
        "    # sample size in each variant\n",
        "    n_c = df.groupby(\"variant\").size()[\"control\"]\n",
        "    n_t = df.groupby(\"variant\").size()[\"treatment\"]\n",
        "\n",
        "    # \"success rate\" (being assigned to treatment)\n",
        "    p_t = n_t / (n_t + n_c)\n",
        "\n",
        "    # variance (Normal approximation of Binomial)\n",
        "    var = 0.5 * (1 - 0.5)\n",
        "    # standard error\n",
        "    se = np.sqrt(var / (n_t + n_c))\n",
        "\n",
        "    # z score\n",
        "    z_score = (p_t - 0.5) / se\n",
        "\n",
        "    # p value\n",
        "    p_value = 1 - stats.norm.cdf(z_score)\n",
        "\n",
        "    # print result\n",
        "    if p_value < alpha:\n",
        "        print(f\"found sample ratio mismatch: p(treatment) = {p_t}, p = {p_value}\")\n",
        "    else:\n",
        "        print(f\"assignment looks random! p(treatment) = {p_t}, p={p_value}\")"
      ]
    },
    {
      "cell_type": "code",
      "execution_count": null,
      "id": "0cce8965-dada-4751-810d-8f590669ce51",
      "metadata": {
        "id": "0cce8965-dada-4751-810d-8f590669ce51",
        "outputId": "a5ef4135-23cc-4090-e8fe-9d8a1fc0e005"
      },
      "outputs": [
        {
          "name": "stdout",
          "output_type": "stream",
          "text": [
            "assignment looks random! p(treatment) = 0.49949652602960426, p=0.5564251629722654\n"
          ]
        }
      ],
      "source": [
        "# check for sample ratio mismatch\n",
        "check_srm(df, 0.05)"
      ]
    },
    {
      "cell_type": "markdown",
      "id": "da743cc2-f149-455e-87cc-8c14487c6761",
      "metadata": {
        "id": "da743cc2-f149-455e-87cc-8c14487c6761"
      },
      "source": [
        "#### 3. Pre-test differences"
      ]
    },
    {
      "cell_type": "code",
      "execution_count": null,
      "id": "5870977f-46c4-4886-af9c-f179a684c458",
      "metadata": {
        "id": "5870977f-46c4-4886-af9c-f179a684c458"
      },
      "outputs": [],
      "source": [
        "# isolate pre-test data\n",
        "treatment_pre = df[df[\"variant\"] == \"treatment\"][\"avg_revenue_pre\"]\n",
        "control_pre = df[df[\"variant\"] == \"control\"][\"avg_revenue_pre\"]"
      ]
    },
    {
      "cell_type": "markdown",
      "source": [
        "The t-test quantifies the difference between the arithmetic means of the two samples. The p-value quantifies the probability of observing as or more extreme values assuming the null hypothesis, that the samples are drawn from populations with the same population means, is true. A p-value larger than a chosen threshold (e.g. 5% or 1%) indicates that our observation is not so unlikely to have occurred by chance. Therefore, we do not reject the null hypothesis of equal population means. \n",
        "\n",
        "If the p-value is smaller than the threshold (e.g. 5% or 1%), then we have evidence against the null hypothesis of equal population means."
      ],
      "metadata": {
        "id": "TeyJ5EiMYK7R"
      },
      "id": "TeyJ5EiMYK7R"
    },
    {
      "cell_type": "code",
      "execution_count": null,
      "id": "d76f2b1b-6227-4e18-a205-b4c649f34fd8",
      "metadata": {
        "id": "d76f2b1b-6227-4e18-a205-b4c649f34fd8",
        "outputId": "06a37bf7-2317-4310-883e-748a066c2bf5"
      },
      "outputs": [
        {
          "data": {
            "text/plain": [
              "Ttest_indResult(statistic=-7.197679548774967, pvalue=6.342861266582803e-13)"
            ]
          },
          "execution_count": 17,
          "metadata": {},
          "output_type": "execute_result"
        }
      ],
      "source": [
        "# test for difference in treatment vs. control means\n",
        "stats.ttest_ind(treatment_pre, control_pre)"
      ]
    },
    {
      "cell_type": "markdown",
      "id": "fddc9aee-f49b-4f2f-b97e-ea1278c57a5a",
      "metadata": {
        "id": "fddc9aee-f49b-4f2f-b97e-ea1278c57a5a"
      },
      "source": [
        "Too bad, the average revenue per customer is already different in the pre-test period! This is a strong indicator that customers are not randomly assigned to each variant."
      ]
    },
    {
      "cell_type": "markdown",
      "id": "8da05add-ad43-42f1-ba01-c33ddc6f09bb",
      "metadata": {
        "id": "8da05add-ad43-42f1-ba01-c33ddc6f09bb"
      },
      "source": [
        "### Q5: If variants were already different before the experiment, how would you analyze data more appropriately? (**Hint**: Instead of just comparing metric values in the post-test data, you can compute the post- vs. pre-test change for each customer and compare the average change between variants.)"
      ]
    },
    {
      "cell_type": "markdown",
      "id": "b1a13c63-04e0-45f3-958e-90aa296f84c9",
      "metadata": {
        "id": "b1a13c63-04e0-45f3-958e-90aa296f84c9"
      },
      "source": [
        "This is really not ideal, but hey, when life gives you lemons, you gotta make some lemonade... So as the hint suggests, we can compute the change in each customer's average revenue. If the treatment has an effect on customers' behavior, then the average change should be different in each variant."
      ]
    },
    {
      "cell_type": "code",
      "execution_count": null,
      "id": "e98e3d48-e3fd-4de6-bf27-6d0dbb993cc6",
      "metadata": {
        "id": "e98e3d48-e3fd-4de6-bf27-6d0dbb993cc6"
      },
      "outputs": [],
      "source": [
        "# compute change in average revenue per customer\n",
        "df[\"avg_rev_delta\"] = df[\"avg_revenue_post\"] - df[\"avg_revenue_pre\"]"
      ]
    },
    {
      "cell_type": "markdown",
      "id": "a68ccf99-86c2-4f7b-954f-88030540d914",
      "metadata": {
        "id": "a68ccf99-86c2-4f7b-954f-88030540d914"
      },
      "source": [
        "### Q6: Did order bump impact the metric you chose? What statistical tests did you conduct to answer this question? Were the assumptions behind them met? "
      ]
    },
    {
      "cell_type": "code",
      "execution_count": null,
      "id": "737c6894-a749-4859-96e9-2b55ac814d94",
      "metadata": {
        "id": "737c6894-a749-4859-96e9-2b55ac814d94"
      },
      "outputs": [],
      "source": [
        "# isolate data for comparison\n",
        "treatment = df[df[\"variant\"] == \"treatment\"][\"avg_rev_delta\"]\n",
        "control = df[df[\"variant\"] == \"control\"][\"avg_rev_delta\"]"
      ]
    },
    {
      "cell_type": "markdown",
      "id": "2d4c37c4-b70f-433c-a52e-37935d741264",
      "metadata": {
        "id": "2d4c37c4-b70f-433c-a52e-37935d741264"
      },
      "source": [
        "We can use a two-sample t-test to answer this question. Below are some basic assumptions behind t-test:\n",
        "\n",
        "- **Independence** between and within groups\n",
        "- **Normality** in each group\n",
        "- To pool variance, each group should have **equal variance**\n",
        "\n",
        "We have no evidence for or again whether the customers are dependent somehow (e.g., in the same household), which is common for online experiments, so don't fret too much about this. After testing for normality (detailed below), I found that the metric is normally distributed in neither variant. However, since we have a large sample, it's likely that the sampling distribution is still normal (central limit theorem). As for the last assumption, pooling variance or not usually doesn't make a huge difference."
      ]
    },
    {
      "cell_type": "code",
      "execution_count": null,
      "id": "19fd0f4d-0b84-49f9-bb8d-8d50e4a7af65",
      "metadata": {
        "id": "19fd0f4d-0b84-49f9-bb8d-8d50e4a7af65",
        "outputId": "5e2a480d-3a1e-47ef-9229-6b62ae184d88"
      },
      "outputs": [
        {
          "data": {
            "image/png": "[encoded data removed]",
            "text/plain": [
              "<Figure size 720x432 with 1 Axes>"
            ]
          },
          "metadata": {},
          "output_type": "display_data"
        }
      ],
      "source": [
        "# plot the distributions\n",
        "plt.figure(figsize=(10, 6))\n",
        "sns.kdeplot(data=df, x=\"avg_rev_delta\", hue=\"variant\")\n",
        "plt.show()"
      ]
    },
    {
      "cell_type": "code",
      "execution_count": null,
      "id": "b2879d43-e1b9-42c0-8dd3-14c0927b9d78",
      "metadata": {
        "id": "b2879d43-e1b9-42c0-8dd3-14c0927b9d78"
      },
      "outputs": [],
      "source": [
        "def test_normality(data, alpha):\n",
        "    # conduct normality test D’Agostino, R. B. (1971)\n",
        "    k2, p = stats.normaltest(data)\n",
        "\n",
        "    # print result\n",
        "    if p < alpha:  # null hypothesis: data comes from a normal distribution\n",
        "        print(\"The data is NOT normally distributed :(\")\n",
        "    else:\n",
        "        print(\"The data is normally distributed :)\")"
      ]
    },
    {
      "cell_type": "code",
      "execution_count": null,
      "id": "711f8815-26df-4873-845d-b74ca0d2be62",
      "metadata": {
        "id": "711f8815-26df-4873-845d-b74ca0d2be62",
        "outputId": "ddaeef1a-7e05-40e0-eac5-b192dfb0b4f5"
      },
      "outputs": [
        {
          "name": "stdout",
          "output_type": "stream",
          "text": [
            "The data is NOT normally distributed :(\n",
            "The data is NOT normally distributed :(\n"
          ]
        }
      ],
      "source": [
        "# test normality in each variant\n",
        "test_normality(treatment, 0.05)\n",
        "test_normality(control, 0.05)"
      ]
    },
    {
      "cell_type": "code",
      "execution_count": null,
      "id": "644deb61-6920-4585-98fc-1f542a8d0caf",
      "metadata": {
        "id": "644deb61-6920-4585-98fc-1f542a8d0caf",
        "outputId": "8a52196a-3776-40ec-d00e-bd0184bbd7d8"
      },
      "outputs": [
        {
          "data": {
            "text/plain": [
              "Ttest_indResult(statistic=31.208213551875527, pvalue=8.888175777344926e-209)"
            ]
          },
          "execution_count": 23,
          "metadata": {},
          "output_type": "execute_result"
        }
      ],
      "source": [
        "# test for difference in treatment vs. control changes\n",
        "stats.ttest_ind(treatment, control)"
      ]
    },
    {
      "cell_type": "markdown",
      "id": "55a197b9-5671-490f-a39d-3ac8dea9328b",
      "metadata": {
        "id": "55a197b9-5671-490f-a39d-3ac8dea9328b"
      },
      "source": [
        "For treatment, the average revenue per customer increased much more than it did for control."
      ]
    },
    {
      "cell_type": "code",
      "execution_count": null,
      "id": "f53e3544-dcc4-4ba1-8cc8-13efb9895c19",
      "metadata": {
        "id": "f53e3544-dcc4-4ba1-8cc8-13efb9895c19",
        "outputId": "bf47a2c1-5f32-437b-b03e-9ebcfc6ac916"
      },
      "outputs": [
        {
          "data": {
            "text/plain": [
              "(3.2002323886606137, 3.629270551572163)"
            ]
          },
          "execution_count": 24,
          "metadata": {},
          "output_type": "execute_result"
        }
      ],
      "source": [
        "# let's get 95% CI\n",
        "sms.CompareMeans(sms.DescrStatsW(treatment), sms.DescrStatsW(control)).tconfint_diff(\n",
        "    usevar=\"unequal\"\n",
        ")"
      ]
    },
    {
      "cell_type": "markdown",
      "id": "948b9757-77e0-437b-b959-7d67d3041ec3",
      "metadata": {
        "id": "948b9757-77e0-437b-b959-7d67d3041ec3"
      },
      "source": [
        "This is confirmed by 95% CI: The lower bound is greater than 0."
      ]
    },
    {
      "cell_type": "markdown",
      "id": "bfb85ad5-e399-4eaa-8dda-287a4f15e459",
      "metadata": {
        "id": "bfb85ad5-e399-4eaa-8dda-287a4f15e459"
      },
      "source": [
        "## 4. Make a Decision"
      ]
    },
    {
      "cell_type": "markdown",
      "id": "7c23056b-d765-49d5-bb13-a09a11ca5222",
      "metadata": {
        "id": "7c23056b-d765-49d5-bb13-a09a11ca5222"
      },
      "source": [
        "### Q7: Based on the results, would you recommend for launching the order bump feature? If the results are not ideal, what actions would you recommend the team to take?\n",
        "\n",
        "<img src=\"https://i0.wp.com/workchronicles.com/wp-content/uploads/2021/08/Decision-vs-Outcome.png?w=2000&ssl=1\" width=\"450\">"
      ]
    },
    {
      "cell_type": "markdown",
      "id": "cc7e010e-5b1c-492b-8734-3f053a8e1966",
      "metadata": {
        "id": "cc7e010e-5b1c-492b-8734-3f053a8e1966"
      },
      "source": [
        "Normally I'd advocate for a launch:\n",
        "\n",
        "1. Compared to control, the treatment improved significantly more in terms of average revenue per customer\n",
        "2. Average revenue per customer is absolutely key to the survival of my company and we an urgent need need to improve it\n",
        "\n",
        "In this case, something seems wrong with randomization such that the average revenue per customer was different between variants. I'd ask the engineers to check the implementations. Otherwise, after we launch order bump, the same error may haunt other customers."
      ]
    }
  ],
  "metadata": {
    "colab": {
      "collapsed_sections": [],
      "name": "ab_testing_project_product_launch.ipynb",
      "provenance": []
    },
    "kernelspec": {
      "display_name": "Python 3 (ipykernel)",
      "language": "python",
      "name": "python3"
    },
    "language_info": {
      "codemirror_mode": {
        "name": "ipython",
        "version": 3
      },
      "file_extension": ".py",
      "mimetype": "text/x-python",
      "name": "python",
      "nbconvert_exporter": "python",
      "pygments_lexer": "ipython3",
      "version": "3.9.6"
    }
  },
  "nbformat": 4,
  "nbformat_minor": 5
}